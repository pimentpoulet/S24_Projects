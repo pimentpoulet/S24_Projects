{
 "cells": [
  {
   "cell_type": "code",
   "execution_count": 24,
   "id": "32de2b49-1252-4424-b0ba-44f85ed0a6d1",
   "metadata": {},
   "outputs": [],
   "source": [
    "import torch as t\n",
    "import torch.nn.functional as F\n",
    "import matplotlib.pyplot as plt\n",
    "import random\n",
    "import matplotlib.gridspec as gridspec\n",
    "%matplotlib inline\n",
    "\n",
    "from matplotlib.font_manager import FontProperties"
   ]
  },
  {
   "cell_type": "code",
   "execution_count": 25,
   "id": "f1ffead3-e21d-4091-b794-42d827dc506d",
   "metadata": {},
   "outputs": [],
   "source": [
    "# get data\n",
    "words = open(\"names.txt\", 'r').read().splitlines()\n",
    "\n",
    "# lookup tables for s --> i || i --> s\n",
    "chars = sorted(list(set(''.join(words))))\n",
    "stoi = {s: i+1 for i,s in enumerate(chars)}\n",
    "stoi['.'] = 0\n",
    "itos = {i: s for s,i in stoi.items()}\n",
    "vocab_size = len(itos)"
   ]
  },
  {
   "cell_type": "code",
   "execution_count": 26,
   "id": "bc557b13-8175-4dda-b78d-a82e54739685",
   "metadata": {},
   "outputs": [],
   "source": [
    "# build the dataset\n",
    "block_size = 8\n",
    "\n",
    "def build_dataset(data):\n",
    "    \"\"\"\n",
    "    creates X tensor which contains input tensors, and Y tensor, which contains the associated output\n",
    "    :param block_size: number of necessary characters to predict the next tone\n",
    "    :param itos: lookup table from string to int\n",
    "    :param stoi: lookup table from int to string\n",
    "    :param data: list of names, nouns, etc.\n",
    "    :return: tuple of X and Y\n",
    "    \"\"\"\n",
    "    X, Y = [], []\n",
    "    for w in data:\n",
    "\n",
    "        context = [0] * block_size\n",
    "        for ch in w + '.':\n",
    "            ix = stoi[ch]\n",
    "            X.append(context)\n",
    "            Y.append(ix)\n",
    "            context = context[1:] + [ix]    # crop and append\n",
    "\n",
    "    X = t.tensor(X)\n",
    "    Y = t.tensor(Y)\n",
    "\n",
    "    return X, Y\n",
    "\n",
    "random.shuffle(words)\n",
    "n1 = int(0.8*len(words))\n",
    "n2 = int(0.9*len(words))\n",
    "\n",
    "# create splits\n",
    "Xtr,  Ytr  = build_dataset(words[:n1])      # 80%\n",
    "Xdev, Ydev = build_dataset(words[n1:n2])    # 10%\n",
    "Xte,  Yte  = build_dataset(words[n2:])      # 10%"
   ]
  },
  {
   "cell_type": "code",
   "execution_count": 27,
   "id": "8a6346ff-9275-4e41-9fb7-e47bb261ffa2",
   "metadata": {},
   "outputs": [
    {
     "name": "stdout",
     "output_type": "stream",
     "text": [
      "........ --> n\n",
      ".......n --> a\n",
      "......na --> i\n",
      ".....nai --> l\n",
      "....nail --> a\n",
      "...naila --> n\n",
      "..nailan --> i\n",
      ".nailani --> .\n",
      "........ --> m\n",
      ".......m --> i\n",
      "......mi --> l\n",
      ".....mil --> a\n",
      "....mila --> y\n",
      "...milay --> s\n",
      "..milays --> i\n",
      ".milaysi --> a\n",
      "milaysia --> .\n",
      "........ --> a\n",
      ".......a --> v\n",
      "......av --> a\n"
     ]
    }
   ],
   "source": [
    "for x,y in zip(Xtr[:20], Ytr[:20]):\n",
    "    print(''.join(itos[ix.item()] for ix in x), \"-->\", itos[y.item()])"
   ]
  },
  {
   "cell_type": "code",
   "execution_count": 28,
   "id": "ede634fd-94ce-49d9-b79c-973755cb9626",
   "metadata": {},
   "outputs": [],
   "source": [
    "class Linear:\n",
    "\n",
    "    def __init__(self, in_features, out_features, bias=True):\n",
    "        self.weight = t.randn((in_features, out_features)) / in_features**0.5\n",
    "        self.bias = t.zeros(out_features) if bias else None\n",
    "\n",
    "    def __call__(self, x):\n",
    "        self.out = x @ self.weight\n",
    "        if self.bias is not None:\n",
    "            self.out += self.bias\n",
    "        return self.out\n",
    "\n",
    "    def parameters(self):\n",
    "        return [self.weight] + ([] if self.bias is None else [self.bias])\n",
    "\n",
    "\n",
    "class BatchNorm1d:\n",
    "\n",
    "    def __init__(self, dim, eps=1e-5, momentum=0.1):\n",
    "\n",
    "        self.eps = eps\n",
    "        self.momentum = momentum\n",
    "        self.training = True\n",
    "\n",
    "        # parameters (trained with backprop)\n",
    "        self.gamma = t.ones(dim)\n",
    "        self.beta = t.zeros(dim)\n",
    "\n",
    "        # buffers (*trained with a running \"momentum update\")\n",
    "        self.running_mean = t.zeros(dim)\n",
    "        self.running_var = t.ones(dim)\n",
    "\n",
    "    def __call__(self, x):\n",
    "\n",
    "        # calculate the forward pass\n",
    "        if self.training:\n",
    "            if x.ndim == 2:\n",
    "                dim = 0\n",
    "            elif x.ndim == 3:\n",
    "                dim = (0, 1)\n",
    "            xmean = x.mean(dim, keepdim=True)    # batch mean\n",
    "            xvar = x.var(dim, keepdim=True)      # batch variance\n",
    "        else:\n",
    "            xmean = self.running_mean\n",
    "            xvar = self.running_var\n",
    "\n",
    "        xhat = (x - xmean) / t.sqrt(xvar + self.eps)    # normalize to unit variance\n",
    "        self.out = self.gamma * xhat + self.beta\n",
    "\n",
    "        # update the buffers\n",
    "        if self.training:\n",
    "            with t.no_grad():\n",
    "                self.running_mean = (1 - self.momentum) * self.running_mean + self.momentum * xmean\n",
    "                self.running_var = (1 - self.momentum) * self.running_var + self.momentum * xvar\n",
    "\n",
    "        return self.out\n",
    "\n",
    "    def parameters(self):\n",
    "        return [self.gamma, self.beta]\n",
    "\n",
    "\n",
    "class Tanh:\n",
    "\n",
    "    def __call__(self, x):\n",
    "        self.out = t.tanh(x)\n",
    "        return self.out\n",
    "\n",
    "    def parameters(self):\n",
    "        return []\n",
    "\n",
    "\n",
    "class Embedding:\n",
    "  \n",
    "    def __init__(self, num_embeddings, embedding_dim):\n",
    "        self.weight = t.randn((num_embeddings, embedding_dim))\n",
    "    \n",
    "    def __call__(self, IX):\n",
    "        self.out = self.weight[IX]\n",
    "        return self.out\n",
    "    \n",
    "    def parameters(self):\n",
    "        return [self.weight]\n",
    "\n",
    "\n",
    "class FlattenConsecutive:\n",
    "\n",
    "    def __init__(self, n):\n",
    "        self.n = n\n",
    "\n",
    "    def __call__(self, x):\n",
    "        B, T, C = x.shape\n",
    "        self.out = x.view(B, T//self.n, C*self.n)\n",
    "        if self.out.shape[1] == 1:\n",
    "            self.out = self.out.squeeze(1)\n",
    "        \n",
    "        return self.out\n",
    "\n",
    "    def parameters(self):\n",
    "        return []\n",
    "\n",
    "\n",
    "class Sequential:\n",
    "\n",
    "    def __init__(self, layers):\n",
    "        self.layers = layers\n",
    "\n",
    "    def __call__(self, x):\n",
    "        for layer in self.layers:\n",
    "            x = layer(x)\n",
    "        self.out = x\n",
    "        return self.out\n",
    "\n",
    "    def parameters(self):\n",
    "        # get parameters of all layers and put them in a list\n",
    "        return [p for layer in self.layers for p in layer.parameters()]\n"
   ]
  },
  {
   "cell_type": "code",
   "execution_count": 29,
   "id": "9c80ad9a-956c-4572-b726-9f52ff3f4d20",
   "metadata": {},
   "outputs": [
    {
     "name": "stdout",
     "output_type": "stream",
     "text": [
      "76579\n"
     ]
    }
   ],
   "source": [
    "# model initialization\n",
    "n_embd = 24       # dimensionality of the character embedding vectors\n",
    "n_hidden = 128    # number of neurons in the hidden layer\n",
    "\n",
    "model = Sequential([\n",
    "    Embedding(vocab_size, n_embd),\n",
    "    FlattenConsecutive(2), Linear(n_embd * 2,   n_hidden, bias=False), BatchNorm1d(n_hidden), Tanh(),\n",
    "    FlattenConsecutive(2), Linear(n_hidden * 2, n_hidden, bias=False), BatchNorm1d(n_hidden), Tanh(),\n",
    "    FlattenConsecutive(2), Linear(n_hidden * 2, n_hidden, bias=False), BatchNorm1d(n_hidden), Tanh(),\n",
    "    Linear(n_hidden, vocab_size),\n",
    "])\n",
    "\n",
    "with t.no_grad():\n",
    "    model.layers[-1].weight *= 0.1\n",
    "\n",
    "parameters = model.parameters()\n",
    "\n",
    "# total number of parameters\n",
    "print(sum(p.nelement() for p in parameters))\n",
    "\n",
    "for p in parameters:\n",
    "    p.requires_grad = True"
   ]
  },
  {
   "cell_type": "code",
   "execution_count": 30,
   "id": "eac37900-e28a-4908-a48c-df761a3f1c4b",
   "metadata": {},
   "outputs": [
    {
     "name": "stdout",
     "output_type": "stream",
     "text": [
      "steps:      0/200000 | loss: 3.2938 | learning rate: 0.1\n",
      "steps:  10000/200000 | loss: 2.3858 | learning rate: 0.1\n",
      "steps:  20000/200000 | loss: 2.4497 | learning rate: 0.1\n",
      "steps:  30000/200000 | loss: 1.9497 | learning rate: 0.1\n",
      "steps:  40000/200000 | loss: 1.7455 | learning rate: 0.1\n",
      "steps:  50000/200000 | loss: 2.1910 | learning rate: 0.1\n",
      "steps:  60000/200000 | loss: 2.1099 | learning rate: 0.1\n",
      "steps:  70000/200000 | loss: 1.5313 | learning rate: 0.1\n",
      "steps:  80000/200000 | loss: 2.0925 | learning rate: 0.1\n",
      "steps:  90000/200000 | loss: 2.1800 | learning rate: 0.1\n",
      "steps: 100000/200000 | loss: 1.6907 | learning rate: 0.1\n",
      "steps: 110000/200000 | loss: 2.2945 | learning rate: 0.1\n",
      "steps: 120000/200000 | loss: 1.6628 | learning rate: 0.1\n",
      "steps: 130000/200000 | loss: 2.2740 | learning rate: 0.1\n",
      "steps: 140000/200000 | loss: 1.8219 | learning rate: 0.1\n",
      "steps: 150000/200000 | loss: 2.0218 | learning rate: 0.01\n",
      "steps: 160000/200000 | loss: 1.8087 | learning rate: 0.01\n",
      "steps: 170000/200000 | loss: 1.8038 | learning rate: 0.01\n",
      "steps: 180000/200000 | loss: 1.7799 | learning rate: 0.01\n",
      "steps: 190000/200000 | loss: 1.9196 | learning rate: 0.01\n"
     ]
    }
   ],
   "source": [
    "# optimization\n",
    "max_steps = 200_000\n",
    "batch_size = 32\n",
    "lossi = []\n",
    "\n",
    "for i in range(max_steps):\n",
    "\n",
    "    # minibatch construct\n",
    "    ix = t.randint(0, Xtr.shape[0], (batch_size,))\n",
    "    Xb, Yb = Xtr[ix], Ytr[ix]    # batch X,Y\n",
    "\n",
    "    # forward pass\n",
    "    logits = model(Xb)\n",
    "    loss = F.cross_entropy(logits, Yb)\n",
    "\n",
    "    # backward pass\n",
    "    for p in parameters:\n",
    "        p.grad = None\n",
    "    loss.backward()\n",
    "\n",
    "    # update\n",
    "    lr = 0.1 if i < (3*max_steps/4) else 0.01    # step learning rate decay\n",
    "    for p in parameters:\n",
    "        p.data += -lr * p.grad\n",
    "\n",
    "    # track stats\n",
    "    if i % 10_000 == 0:\n",
    "        print(f\"steps: {i:6d}/{max_steps:6d} | loss: {loss.item():.4f} | learning rate: {lr}\")\n",
    "    lossi.append(loss.log10().item())"
   ]
  },
  {
   "cell_type": "code",
   "execution_count": 31,
   "id": "feaa993c-8284-4307-8ed4-66c38eb9c5b7",
   "metadata": {},
   "outputs": [
    {
     "data": {
      "text/plain": [
       "[<matplotlib.lines.Line2D at 0x2951ab228d0>]"
      ]
     },
     "execution_count": 31,
     "metadata": {},
     "output_type": "execute_result"
    },
    {
     "data": {
      "image/png": "[encoded data removed]",
      "text/plain": [
       "<Figure size 640x480 with 1 Axes>"
      ]
     },
     "metadata": {},
     "output_type": "display_data"
    }
   ],
   "source": [
    "# reshape lossi into a tensor\n",
    "lossi = t.tensor(lossi).view(-1, 1000).mean(1)\n",
    "plt.plot(lossi)"
   ]
  },
  {
   "cell_type": "code",
   "execution_count": 32,
   "id": "dac97e89-9bb4-4a0d-aada-5de6d05b0391",
   "metadata": {},
   "outputs": [],
   "source": [
    "# put all layers into eval mode\n",
    "for layer in model.layers:\n",
    "    layer.training = False"
   ]
  },
  {
   "cell_type": "code",
   "execution_count": 33,
   "id": "25e16e9f-95a5-44b0-bfa6-213aa041fb2a",
   "metadata": {},
   "outputs": [
    {
     "name": "stdout",
     "output_type": "stream",
     "text": [
      "train 1.767919659614563\n",
      "val 1.9932291507720947\n"
     ]
    }
   ],
   "source": [
    "@t.no_grad()    # decorator that disables gradient tracking\n",
    "def split_loss(split):\n",
    "    x,y = {\"train\": (Xtr, Ytr),\n",
    "           \"val\": (Xdev, Ydev),\n",
    "           \"test\": (Xte, Yte)}[split]\n",
    "    logits = model(x)\n",
    "    loss = F.cross_entropy(logits, y)\n",
    "    print(split, loss.item())\n",
    "\n",
    "# evaluate the train and validation loss\n",
    "split_loss(\"train\")\n",
    "split_loss(\"val\")"
   ]
  },
  {
   "cell_type": "code",
   "execution_count": 44,
   "id": "55fa6244-1ac3-46c0-9ac6-6722663bc154",
   "metadata": {},
   "outputs": [
    {
     "name": "stdout",
     "output_type": "stream",
     "text": [
      "ainaan.\n",
      "lanny.\n",
      "canora.\n",
      "elli.\n",
      "elina.\n",
      "eastan.\n",
      "rayyan.\n",
      "mikaela.\n",
      "romilon.\n",
      "annar.\n",
      "amartia.\n",
      "sareyah.\n",
      "jalaiyah.\n",
      "rylee.\n",
      "yanyl.\n",
      "jim.\n",
      "broda.\n",
      "oluwin.\n",
      "decton.\n",
      "nuregha.\n"
     ]
    }
   ],
   "source": [
    "# sample from the model\n",
    "for _ in range(20):\n",
    "    out = []\n",
    "    context = [0] * block_size\n",
    "\n",
    "    while True:\n",
    "        \n",
    "        # forward pass the neural net\n",
    "        logits = model(t.tensor([context]))\n",
    "        probs = F.softmax(logits, dim=1)\n",
    "        \n",
    "        # sample from the distribution\n",
    "        ix = t.multinomial(probs, num_samples=1).item()\n",
    "\n",
    "        # shift the context window and track the samples\n",
    "        context = context[1:] + [ix]\n",
    "        out.append(ix)\n",
    "\n",
    "        # if we sample the special \".\" token, break\n",
    "        if ix == 0:\n",
    "            break\n",
    "\n",
    "    print(''.join(itos[i] for i in out))"
   ]
  }
 ],
 "metadata": {
  "kernelspec": {
   "display_name": "Python [conda env:Pytorch_env] *",
   "language": "python",
   "name": "conda-env-Pytorch_env-py"
  },
  "language_info": {
   "codemirror_mode": {
    "name": "ipython",
    "version": 3
   },
   "file_extension": ".py",
   "mimetype": "text/x-python",
   "name": "python",
   "nbconvert_exporter": "python",
   "pygments_lexer": "ipython3",
   "version": "3.12.3"
  }
 },
 "nbformat": 4,
 "nbformat_minor": 5
}
